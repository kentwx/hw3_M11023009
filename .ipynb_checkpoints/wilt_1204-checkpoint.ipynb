{
 "cells": [
  {
   "cell_type": "code",
   "execution_count": 1,
   "metadata": {
    "colab": {
     "base_uri": "https://localhost:8080/",
     "height": 883
    },
    "executionInfo": {
     "elapsed": 2763,
     "status": "error",
     "timestamp": 1620970445769,
     "user": {
      "displayName": "朱俊霖",
      "photoUrl": "",
      "userId": "12495111867274147532"
     },
     "user_tz": -480
    },
    "id": "icRiuMapS3e3",
    "outputId": "837fdf7f-d370-41c1-830d-412e406f46ef"
   },
   "outputs": [],
   "source": [
    "from sklearn.datasets import load_iris\n",
    "import matplotlib.pyplot as plt\n",
    "from sklearn.cluster import KMeans\n",
    "import scipy.cluster.hierarchy as sch\n",
    "from sklearn.cluster import DBSCAN\n",
    "import pandas as pd\n",
    "import numpy as np\n",
    "import datetime as DT\n",
    "from sklearn.metrics import accuracy_score"
   ]
  },
  {
   "cell_type": "markdown",
   "metadata": {},
   "source": [
    "# Purity指標運算"
   ]
  },
  {
   "cell_type": "code",
   "execution_count": 2,
   "metadata": {},
   "outputs": [],
   "source": [
    "def purity_score(wilt_y,label_pred):\n",
    "\n",
    "    y_voted_labels = np.zeros(wilt_y.shape)\n",
    "    labels = np.unique(wilt_y)\n",
    "    ordered_labels = np.arange(labels.shape[0])\n",
    "    \n",
    "    for k in range(labels.shape[0]):\n",
    "        wilt_y[wilt_y==labels[k]] = ordered_labels[k]\n",
    "    labels = np.unique(wilt_y)\n",
    "    bins = np.concatenate((labels, [np.max(labels)+1]), axis=0)\n",
    "\n",
    "    for cluster in np.unique(label_pred):\n",
    "        hist, _ = np.histogram(wilt_y[label_pred==cluster], bins=bins)\n",
    "        winner = np.argmax(hist)\n",
    "        y_voted_labels[label_pred==cluster] = winner\n",
    "\n",
    "    return accuracy_score(wilt_y, y_voted_labels)"
   ]
  },
  {
   "cell_type": "markdown",
   "metadata": {},
   "source": [
    "# 匯入wilt資料"
   ]
  },
  {
   "cell_type": "code",
   "execution_count": 3,
   "id": "e0ba22ba",
   "metadata": {
    "scrolled": true
   },
   "outputs": [
    {
     "data": {
      "text/html": [
       "<div>\n",
       "<style scoped>\n",
       "    .dataframe tbody tr th:only-of-type {\n",
       "        vertical-align: middle;\n",
       "    }\n",
       "\n",
       "    .dataframe tbody tr th {\n",
       "        vertical-align: top;\n",
       "    }\n",
       "\n",
       "    .dataframe thead th {\n",
       "        text-align: right;\n",
       "    }\n",
       "</style>\n",
       "<table border=\"1\" class=\"dataframe\">\n",
       "  <thead>\n",
       "    <tr style=\"text-align: right;\">\n",
       "      <th></th>\n",
       "      <th>class</th>\n",
       "      <th>GLCM_pan</th>\n",
       "      <th>Mean_Green</th>\n",
       "      <th>Mean_Red</th>\n",
       "      <th>Mean_NIR</th>\n",
       "      <th>SD_pan</th>\n",
       "    </tr>\n",
       "  </thead>\n",
       "  <tbody>\n",
       "    <tr>\n",
       "      <th>0</th>\n",
       "      <td>w</td>\n",
       "      <td>120.362774</td>\n",
       "      <td>205.500000</td>\n",
       "      <td>119.395349</td>\n",
       "      <td>416.581395</td>\n",
       "      <td>20.676318</td>\n",
       "    </tr>\n",
       "    <tr>\n",
       "      <th>1</th>\n",
       "      <td>w</td>\n",
       "      <td>124.739583</td>\n",
       "      <td>202.800000</td>\n",
       "      <td>115.333333</td>\n",
       "      <td>354.333333</td>\n",
       "      <td>16.707151</td>\n",
       "    </tr>\n",
       "    <tr>\n",
       "      <th>2</th>\n",
       "      <td>w</td>\n",
       "      <td>134.691964</td>\n",
       "      <td>199.285714</td>\n",
       "      <td>116.857143</td>\n",
       "      <td>477.857143</td>\n",
       "      <td>22.496712</td>\n",
       "    </tr>\n",
       "    <tr>\n",
       "      <th>3</th>\n",
       "      <td>w</td>\n",
       "      <td>127.946309</td>\n",
       "      <td>178.368421</td>\n",
       "      <td>92.368421</td>\n",
       "      <td>278.473684</td>\n",
       "      <td>14.977453</td>\n",
       "    </tr>\n",
       "    <tr>\n",
       "      <th>4</th>\n",
       "      <td>w</td>\n",
       "      <td>135.431548</td>\n",
       "      <td>197.000000</td>\n",
       "      <td>112.690476</td>\n",
       "      <td>532.952381</td>\n",
       "      <td>17.604193</td>\n",
       "    </tr>\n",
       "    <tr>\n",
       "      <th>...</th>\n",
       "      <td>...</td>\n",
       "      <td>...</td>\n",
       "      <td>...</td>\n",
       "      <td>...</td>\n",
       "      <td>...</td>\n",
       "      <td>...</td>\n",
       "    </tr>\n",
       "    <tr>\n",
       "      <th>4334</th>\n",
       "      <td>n</td>\n",
       "      <td>111.568773</td>\n",
       "      <td>203.588235</td>\n",
       "      <td>93.264706</td>\n",
       "      <td>403.735294</td>\n",
       "      <td>26.512777</td>\n",
       "    </tr>\n",
       "    <tr>\n",
       "      <th>4335</th>\n",
       "      <td>n</td>\n",
       "      <td>125.435240</td>\n",
       "      <td>206.394161</td>\n",
       "      <td>93.058394</td>\n",
       "      <td>512.270073</td>\n",
       "      <td>33.466060</td>\n",
       "    </tr>\n",
       "    <tr>\n",
       "      <th>4336</th>\n",
       "      <td>n</td>\n",
       "      <td>132.123859</td>\n",
       "      <td>465.343750</td>\n",
       "      <td>295.333333</td>\n",
       "      <td>499.250000</td>\n",
       "      <td>38.762967</td>\n",
       "    </tr>\n",
       "    <tr>\n",
       "      <th>4337</th>\n",
       "      <td>n</td>\n",
       "      <td>124.469536</td>\n",
       "      <td>215.152632</td>\n",
       "      <td>98.484211</td>\n",
       "      <td>675.915789</td>\n",
       "      <td>28.506542</td>\n",
       "    </tr>\n",
       "    <tr>\n",
       "      <th>4338</th>\n",
       "      <td>n</td>\n",
       "      <td>125.171928</td>\n",
       "      <td>559.048000</td>\n",
       "      <td>365.968000</td>\n",
       "      <td>439.272000</td>\n",
       "      <td>15.392322</td>\n",
       "    </tr>\n",
       "  </tbody>\n",
       "</table>\n",
       "<p>4339 rows × 6 columns</p>\n",
       "</div>"
      ],
      "text/plain": [
       "     class    GLCM_pan  Mean_Green    Mean_Red    Mean_NIR     SD_pan\n",
       "0        w  120.362774  205.500000  119.395349  416.581395  20.676318\n",
       "1        w  124.739583  202.800000  115.333333  354.333333  16.707151\n",
       "2        w  134.691964  199.285714  116.857143  477.857143  22.496712\n",
       "3        w  127.946309  178.368421   92.368421  278.473684  14.977453\n",
       "4        w  135.431548  197.000000  112.690476  532.952381  17.604193\n",
       "...    ...         ...         ...         ...         ...        ...\n",
       "4334     n  111.568773  203.588235   93.264706  403.735294  26.512777\n",
       "4335     n  125.435240  206.394161   93.058394  512.270073  33.466060\n",
       "4336     n  132.123859  465.343750  295.333333  499.250000  38.762967\n",
       "4337     n  124.469536  215.152632   98.484211  675.915789  28.506542\n",
       "4338     n  125.171928  559.048000  365.968000  439.272000  15.392322\n",
       "\n",
       "[4339 rows x 6 columns]"
      ]
     },
     "execution_count": 3,
     "metadata": {},
     "output_type": "execute_result"
    }
   ],
   "source": [
    "wilt= pd.read_csv('wilt.csv', skiprows = 1, header=None,  names=[\"class\",\"GLCM_pan\",\"Mean_Green\",\"Mean_Red\",\"Mean_NIR\",\"SD_pan\"])\n",
    "wilt"
   ]
  },
  {
   "cell_type": "code",
   "execution_count": 4,
   "id": "65a37fdf",
   "metadata": {},
   "outputs": [],
   "source": [
    "def dataCleaning(dataSet):    \n",
    "   \n",
    "    class1 = {'w': 1, 'n': 0}\n",
    "    try:\n",
    "        dataSet['class'] = dataSet['class'].map(class1)\n",
    "    except:\n",
    "        i = 0#不做處理\n",
    "    else:\n",
    "        i = 0\n",
    "        \n",
    "        \n",
    "    return dataSet"
   ]
  },
  {
   "cell_type": "code",
   "execution_count": 5,
   "id": "6c420906",
   "metadata": {},
   "outputs": [
    {
     "data": {
      "text/html": [
       "<div>\n",
       "<style scoped>\n",
       "    .dataframe tbody tr th:only-of-type {\n",
       "        vertical-align: middle;\n",
       "    }\n",
       "\n",
       "    .dataframe tbody tr th {\n",
       "        vertical-align: top;\n",
       "    }\n",
       "\n",
       "    .dataframe thead th {\n",
       "        text-align: right;\n",
       "    }\n",
       "</style>\n",
       "<table border=\"1\" class=\"dataframe\">\n",
       "  <thead>\n",
       "    <tr style=\"text-align: right;\">\n",
       "      <th></th>\n",
       "      <th>class</th>\n",
       "      <th>GLCM_pan</th>\n",
       "      <th>Mean_Green</th>\n",
       "      <th>Mean_Red</th>\n",
       "      <th>Mean_NIR</th>\n",
       "      <th>SD_pan</th>\n",
       "    </tr>\n",
       "  </thead>\n",
       "  <tbody>\n",
       "    <tr>\n",
       "      <th>0</th>\n",
       "      <td>1</td>\n",
       "      <td>120.362774</td>\n",
       "      <td>205.500000</td>\n",
       "      <td>119.395349</td>\n",
       "      <td>416.581395</td>\n",
       "      <td>20.676318</td>\n",
       "    </tr>\n",
       "    <tr>\n",
       "      <th>1</th>\n",
       "      <td>1</td>\n",
       "      <td>124.739583</td>\n",
       "      <td>202.800000</td>\n",
       "      <td>115.333333</td>\n",
       "      <td>354.333333</td>\n",
       "      <td>16.707151</td>\n",
       "    </tr>\n",
       "    <tr>\n",
       "      <th>2</th>\n",
       "      <td>1</td>\n",
       "      <td>134.691964</td>\n",
       "      <td>199.285714</td>\n",
       "      <td>116.857143</td>\n",
       "      <td>477.857143</td>\n",
       "      <td>22.496712</td>\n",
       "    </tr>\n",
       "    <tr>\n",
       "      <th>3</th>\n",
       "      <td>1</td>\n",
       "      <td>127.946309</td>\n",
       "      <td>178.368421</td>\n",
       "      <td>92.368421</td>\n",
       "      <td>278.473684</td>\n",
       "      <td>14.977453</td>\n",
       "    </tr>\n",
       "    <tr>\n",
       "      <th>4</th>\n",
       "      <td>1</td>\n",
       "      <td>135.431548</td>\n",
       "      <td>197.000000</td>\n",
       "      <td>112.690476</td>\n",
       "      <td>532.952381</td>\n",
       "      <td>17.604193</td>\n",
       "    </tr>\n",
       "    <tr>\n",
       "      <th>...</th>\n",
       "      <td>...</td>\n",
       "      <td>...</td>\n",
       "      <td>...</td>\n",
       "      <td>...</td>\n",
       "      <td>...</td>\n",
       "      <td>...</td>\n",
       "    </tr>\n",
       "    <tr>\n",
       "      <th>4334</th>\n",
       "      <td>0</td>\n",
       "      <td>111.568773</td>\n",
       "      <td>203.588235</td>\n",
       "      <td>93.264706</td>\n",
       "      <td>403.735294</td>\n",
       "      <td>26.512777</td>\n",
       "    </tr>\n",
       "    <tr>\n",
       "      <th>4335</th>\n",
       "      <td>0</td>\n",
       "      <td>125.435240</td>\n",
       "      <td>206.394161</td>\n",
       "      <td>93.058394</td>\n",
       "      <td>512.270073</td>\n",
       "      <td>33.466060</td>\n",
       "    </tr>\n",
       "    <tr>\n",
       "      <th>4336</th>\n",
       "      <td>0</td>\n",
       "      <td>132.123859</td>\n",
       "      <td>465.343750</td>\n",
       "      <td>295.333333</td>\n",
       "      <td>499.250000</td>\n",
       "      <td>38.762967</td>\n",
       "    </tr>\n",
       "    <tr>\n",
       "      <th>4337</th>\n",
       "      <td>0</td>\n",
       "      <td>124.469536</td>\n",
       "      <td>215.152632</td>\n",
       "      <td>98.484211</td>\n",
       "      <td>675.915789</td>\n",
       "      <td>28.506542</td>\n",
       "    </tr>\n",
       "    <tr>\n",
       "      <th>4338</th>\n",
       "      <td>0</td>\n",
       "      <td>125.171928</td>\n",
       "      <td>559.048000</td>\n",
       "      <td>365.968000</td>\n",
       "      <td>439.272000</td>\n",
       "      <td>15.392322</td>\n",
       "    </tr>\n",
       "  </tbody>\n",
       "</table>\n",
       "<p>4339 rows × 6 columns</p>\n",
       "</div>"
      ],
      "text/plain": [
       "      class    GLCM_pan  Mean_Green    Mean_Red    Mean_NIR     SD_pan\n",
       "0         1  120.362774  205.500000  119.395349  416.581395  20.676318\n",
       "1         1  124.739583  202.800000  115.333333  354.333333  16.707151\n",
       "2         1  134.691964  199.285714  116.857143  477.857143  22.496712\n",
       "3         1  127.946309  178.368421   92.368421  278.473684  14.977453\n",
       "4         1  135.431548  197.000000  112.690476  532.952381  17.604193\n",
       "...     ...         ...         ...         ...         ...        ...\n",
       "4334      0  111.568773  203.588235   93.264706  403.735294  26.512777\n",
       "4335      0  125.435240  206.394161   93.058394  512.270073  33.466060\n",
       "4336      0  132.123859  465.343750  295.333333  499.250000  38.762967\n",
       "4337      0  124.469536  215.152632   98.484211  675.915789  28.506542\n",
       "4338      0  125.171928  559.048000  365.968000  439.272000  15.392322\n",
       "\n",
       "[4339 rows x 6 columns]"
      ]
     },
     "execution_count": 5,
     "metadata": {},
     "output_type": "execute_result"
    }
   ],
   "source": [
    "wilt_x = dataCleaning(wilt)\n",
    "wilt_x"
   ]
  },
  {
   "cell_type": "code",
   "execution_count": 6,
   "id": "bda9ca46",
   "metadata": {},
   "outputs": [],
   "source": [
    "wilt_y = wilt_x.pop('class')"
   ]
  },
  {
   "cell_type": "code",
   "execution_count": 7,
   "id": "b24fd79b",
   "metadata": {},
   "outputs": [],
   "source": [
    "wilt_y=wilt_y.values"
   ]
  },
  {
   "cell_type": "code",
   "execution_count": 8,
   "id": "73b99497",
   "metadata": {},
   "outputs": [
    {
     "data": {
      "text/plain": [
       "GLCM_pan      0\n",
       "Mean_Green    0\n",
       "Mean_Red      0\n",
       "Mean_NIR      0\n",
       "SD_pan        0\n",
       "dtype: int64"
      ]
     },
     "execution_count": 8,
     "metadata": {},
     "output_type": "execute_result"
    }
   ],
   "source": [
    "#驗證有無缺失值\n",
    "wilt.isnull().sum()"
   ]
  },
  {
   "cell_type": "code",
   "execution_count": 9,
   "id": "2d99bd1c",
   "metadata": {},
   "outputs": [
    {
     "data": {
      "text/html": [
       "<div>\n",
       "<style scoped>\n",
       "    .dataframe tbody tr th:only-of-type {\n",
       "        vertical-align: middle;\n",
       "    }\n",
       "\n",
       "    .dataframe tbody tr th {\n",
       "        vertical-align: top;\n",
       "    }\n",
       "\n",
       "    .dataframe thead th {\n",
       "        text-align: right;\n",
       "    }\n",
       "</style>\n",
       "<table border=\"1\" class=\"dataframe\">\n",
       "  <thead>\n",
       "    <tr style=\"text-align: right;\">\n",
       "      <th></th>\n",
       "      <th>Mean_Green</th>\n",
       "      <th>Mean_Red</th>\n",
       "    </tr>\n",
       "  </thead>\n",
       "  <tbody>\n",
       "    <tr>\n",
       "      <th>0</th>\n",
       "      <td>205.500000</td>\n",
       "      <td>119.395349</td>\n",
       "    </tr>\n",
       "    <tr>\n",
       "      <th>1</th>\n",
       "      <td>202.800000</td>\n",
       "      <td>115.333333</td>\n",
       "    </tr>\n",
       "    <tr>\n",
       "      <th>2</th>\n",
       "      <td>199.285714</td>\n",
       "      <td>116.857143</td>\n",
       "    </tr>\n",
       "    <tr>\n",
       "      <th>3</th>\n",
       "      <td>178.368421</td>\n",
       "      <td>92.368421</td>\n",
       "    </tr>\n",
       "    <tr>\n",
       "      <th>4</th>\n",
       "      <td>197.000000</td>\n",
       "      <td>112.690476</td>\n",
       "    </tr>\n",
       "    <tr>\n",
       "      <th>...</th>\n",
       "      <td>...</td>\n",
       "      <td>...</td>\n",
       "    </tr>\n",
       "    <tr>\n",
       "      <th>4334</th>\n",
       "      <td>203.588235</td>\n",
       "      <td>93.264706</td>\n",
       "    </tr>\n",
       "    <tr>\n",
       "      <th>4335</th>\n",
       "      <td>206.394161</td>\n",
       "      <td>93.058394</td>\n",
       "    </tr>\n",
       "    <tr>\n",
       "      <th>4336</th>\n",
       "      <td>465.343750</td>\n",
       "      <td>295.333333</td>\n",
       "    </tr>\n",
       "    <tr>\n",
       "      <th>4337</th>\n",
       "      <td>215.152632</td>\n",
       "      <td>98.484211</td>\n",
       "    </tr>\n",
       "    <tr>\n",
       "      <th>4338</th>\n",
       "      <td>559.048000</td>\n",
       "      <td>365.968000</td>\n",
       "    </tr>\n",
       "  </tbody>\n",
       "</table>\n",
       "<p>4339 rows × 2 columns</p>\n",
       "</div>"
      ],
      "text/plain": [
       "      Mean_Green    Mean_Red\n",
       "0     205.500000  119.395349\n",
       "1     202.800000  115.333333\n",
       "2     199.285714  116.857143\n",
       "3     178.368421   92.368421\n",
       "4     197.000000  112.690476\n",
       "...          ...         ...\n",
       "4334  203.588235   93.264706\n",
       "4335  206.394161   93.058394\n",
       "4336  465.343750  295.333333\n",
       "4337  215.152632   98.484211\n",
       "4338  559.048000  365.968000\n",
       "\n",
       "[4339 rows x 2 columns]"
      ]
     },
     "execution_count": 9,
     "metadata": {},
     "output_type": "execute_result"
    }
   ],
   "source": [
    "#選定選定兩特徵進行分析\n",
    "X = wilt.iloc[:,1:3]\n",
    "X"
   ]
  },
  {
   "cell_type": "markdown",
   "metadata": {},
   "source": [
    "# 原始資料 (依類別分群)"
   ]
  },
  {
   "cell_type": "code",
   "execution_count": 10,
   "metadata": {},
   "outputs": [
    {
     "data": {
      "image/png": "[encoded data removed]",
      "text/plain": [
       "<Figure size 432x288 with 1 Axes>"
      ]
     },
     "metadata": {
      "needs_background": "light"
     },
     "output_type": "display_data"
    }
   ],
   "source": [
    "x0 = wilt_x[wilt_y == 0]\n",
    "x1 = wilt_x[wilt_y == 1]\n",
    "\n",
    "wilt_x0_Mean_Green=x0.iloc[:,1]\n",
    "wilt_x0_Mean_Red=x0.iloc[:,2]\n",
    "\n",
    "wilt_x1_Mean_Green=x1.iloc[:,1]\n",
    "wilt_x1_Mean_Red=x1.iloc[:,2]\n",
    "\n",
    "plt.scatter(wilt_x0_Mean_Green, wilt_x0_Mean_Red, c=\"green\", marker='x', label='all other land cover')  \n",
    "plt.scatter(wilt_x1_Mean_Green, wilt_x1_Mean_Red, c=\"red\", marker='*', label='diseased trees')  \n",
    "plt.xlabel('Mean green value')  \n",
    "plt.ylabel('Mean red value')  \n",
    "plt.legend(loc=1)  \n",
    "plt.show() "
   ]
  },
  {
   "cell_type": "markdown",
   "metadata": {},
   "source": [
    "# KMeans"
   ]
  },
  {
   "cell_type": "code",
   "execution_count": 11,
   "metadata": {
    "scrolled": false
   },
   "outputs": [
    {
     "data": {
      "image/png": "[encoded data removed]",
      "text/plain": [
       "<Figure size 432x288 with 1 Axes>"
      ]
     },
     "metadata": {
      "needs_background": "light"
     },
     "output_type": "display_data"
    },
    {
     "name": "stdout",
     "output_type": "stream",
     "text": [
      "[1 1 1 ... 1 0 1]\n",
      "Time: 0:00:00.392949\n",
      "Purity: 0.9829453791196128\n"
     ]
    }
   ],
   "source": [
    "ST_time = DT.datetime.now()\n",
    "\n",
    "estimator = KMeans(n_clusters=2).fit(wilt_x)\n",
    "lab = estimator.labels_\n",
    "scatter = plt.scatter(wilt_x['Mean_Green'],wilt_x['Mean_Red'],c=estimator.labels_)\n",
    "plt.xlabel('Mean green value') \n",
    "plt.ylabel('Mean red value') \n",
    "plt.show()\n",
    "\n",
    "ED_time = DT.datetime.now()\n",
    "\n",
    "print(lab)\n",
    "print(\"Time:\",ED_time-ST_time)\n",
    "print(\"Purity:\",purity_score(wilt_y,estimator.labels_))"
   ]
  },
  {
   "cell_type": "markdown",
   "metadata": {},
   "source": [
    "# 階層式分群"
   ]
  },
  {
   "cell_type": "code",
   "execution_count": 12,
   "metadata": {},
   "outputs": [
    {
     "data": {
      "image/png": "[encoded data removed]",
      "text/plain": [
       "<Figure size 432x288 with 1 Axes>"
      ]
     },
     "metadata": {
      "needs_background": "light"
     },
     "output_type": "display_data"
    },
    {
     "name": "stdout",
     "output_type": "stream",
     "text": [
      "Time: 0:04:02.964911\n",
      "Purity 0.9829453791196128\n"
     ]
    },
    {
     "data": {
      "image/png": "[encoded data removed]",
      "text/plain": [
       "<Figure size 432x288 with 1 Axes>"
      ]
     },
     "metadata": {
      "needs_background": "light"
     },
     "output_type": "display_data"
    }
   ],
   "source": [
    "ST_time = DT.datetime.now()\n",
    "\n",
    "dis=sch.linkage(X,metric='euclidean',method='ward')\n",
    "sch.dendrogram(dis)\n",
    "plt.title('Hierarchical Clustering')\n",
    "plt.show()\n",
    "k=2\n",
    "clusters=sch.fcluster(dis,k,criterion='maxclust')\n",
    "plt.scatter(X['Mean_Green'],X['Mean_Red'],c=clusters)\n",
    "\n",
    "ED_time = DT.datetime.now()\n",
    "\n",
    "print(\"Time:\",ED_time-ST_time)\n",
    "print ('Purity', purity_score(wilt_y, clusters-1) )"
   ]
  },
  {
   "cell_type": "markdown",
   "metadata": {},
   "source": [
    "# DBSCAN"
   ]
  },
  {
   "cell_type": "code",
   "execution_count": 13,
   "metadata": {},
   "outputs": [
    {
     "data": {
      "image/png": "[encoded data removed]",
      "text/plain": [
       "<Figure size 432x288 with 1 Axes>"
      ]
     },
     "metadata": {
      "needs_background": "light"
     },
     "output_type": "display_data"
    },
    {
     "name": "stdout",
     "output_type": "stream",
     "text": [
      "Time: 0:00:00.269267\n",
      "Purity 0.9829453791196128\n"
     ]
    }
   ],
   "source": [
    "ST_time = DT.datetime.now()\n",
    "\n",
    "clustering=DBSCAN(eps=0.5,min_samples=2).fit(wilt_x)\n",
    "label_pred = clustering.labels_\n",
    "\n",
    "#畫圖\n",
    "x0 = wilt_x[label_pred == -1]\n",
    "x1 = wilt_x[label_pred == 0]\n",
    "\n",
    "wilt_x0_Mean_Green=x0.iloc[:,1]\n",
    "wilt_x0_Mean_Red=x0.iloc[:,2]\n",
    "\n",
    "wilt_x1_Mean_Green=x1.iloc[:,1]\n",
    "wilt_x1_Mean_Red=x1.iloc[:,2]\n",
    "\n",
    "plt.scatter(wilt_x0_Mean_Green, wilt_x0_Mean_Red, c=\"red\", marker='x', label='diseased trees')  \n",
    "plt.scatter(wilt_x1_Mean_Green, wilt_x1_Mean_Red, c=\"green\", marker='*', label='all other land cover')  \n",
    "\n",
    "plt.xlabel('Mean green value')  \n",
    "plt.ylabel('Mean red value')   \n",
    "plt.legend(loc=1)  \n",
    "plt.show() \n",
    "\n",
    "ED_time = DT.datetime.now()\n",
    "\n",
    "print('Time:',ED_time-ST_time)\n",
    "print('Purity',purity_score(wilt_y,label_pred))"
   ]
  },
  {
   "cell_type": "code",
   "execution_count": null,
   "metadata": {},
   "outputs": [],
   "source": []
  }
 ],
 "metadata": {
  "colab": {
   "authorship_tag": "ABX9TyOMtXwQEcw3+JpTrLa1xGTM",
   "collapsed_sections": [],
   "name": "0507.ipynb",
   "provenance": []
  },
  "kernelspec": {
   "display_name": "Python 3",
   "language": "python",
   "name": "python3"
  },
  "language_info": {
   "codemirror_mode": {
    "name": "ipython",
    "version": 3
   },
   "file_extension": ".py",
   "mimetype": "text/x-python",
   "name": "python",
   "nbconvert_exporter": "python",
   "pygments_lexer": "ipython3",
   "version": "3.8.8"
  }
 },
 "nbformat": 4,
 "nbformat_minor": 1
}
